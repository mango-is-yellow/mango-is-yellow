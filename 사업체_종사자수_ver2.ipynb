{
 "cells": [
  {
   "cell_type": "code",
   "execution_count": 27,
   "id": "7976cd96",
   "metadata": {},
   "outputs": [],
   "source": [
    "import pandas as pd\n",
    "\n",
    "f = pd.read_table(\"C://Users//82106//Downloads//_census_reqdoc_1659063002585//original//11_2019년_산업분류별(10차_대분류)_사업체수.txt\",sep='^',header=None)\n",
    "f = f.fillna(0)\n",
    "f = f.iloc[:,1:]\n",
    "f.iloc[:,0] = f.iloc[:,0].map(str)\n",
    "#print(f)\n",
    "\n",
    "g = pd.read_excel(\"C://Users//82106//Downloads//ref_code//original//statistics_code.xls\",sheet_name='집계구')\n",
    "g = g.iloc[:,2:]\n",
    "g = g[g.iloc[:,1].str.contains(\"cp_bnu_\")] #원하는 사업체수 코드를 가진 row만 추출\n",
    "g = g.tail(20)\n",
    "#print(g)\n",
    "\n",
    "sucs = pd.merge(f,g,left_on=f.iloc[:,1],right_on=g.iloc[:,1],how='left')\n",
    "sucs = sucs.drop(sucs.columns[[0,2,5]],axis=1)\n",
    "sucs.columns = ['집계구번호','사업체수','산업분류']\n",
    "names = ['집계구번호','산업분류','사업체수']\n",
    "sucs = sucs[names]\n",
    "#print(sucs)\n",
    "\n",
    "sucs.to_csv(\"C://Datacampus_project//사업체수.csv\", index = False)\n"
   ]
  },
  {
   "cell_type": "code",
   "execution_count": 1,
   "id": "d18ffe65",
   "metadata": {},
   "outputs": [
    {
     "name": "stdout",
     "output_type": "stream",
     "text": [
      "                집계구번호                       산업분류  사업체수\n",
      "0       1104069010009                   도매 및 소매업   0.0\n",
      "1       1113075040022  협회 및 단체, 수리  및 기타 개인 서비스업   0.0\n",
      "2       1105061020017                   도매 및 소매업  11.0\n",
      "3       1106083010002           전문, 과학 및 기술 서비스업   0.0\n",
      "4       1116055010048                   도매 및 소매업   0.0\n",
      "...               ...                        ...   ...\n",
      "100502  1109071010022  협회 및 단체, 수리  및 기타 개인 서비스업   0.0\n",
      "100503  1116073020002                 부동산업 및 임대업  11.0\n",
      "100504  1112067010006                  숙박 및 음식점업  10.0\n",
      "100505  1118052030008                   도매 및 소매업  13.0\n",
      "100506  1125073010018                        제조업   0.0\n",
      "\n",
      "[100507 rows x 3 columns]\n"
     ]
    }
   ],
   "source": [
    "import pandas as pd\n",
    "\n",
    "f = pd.read_table(\"C://Users//82106//Downloads//_census_reqdoc_1659063002585//original//11_2019년_산업분류별(10차_대분류)_사업체수.txt\",sep='^',header=None)\n",
    "f = f.fillna(0)\n",
    "f = f.iloc[:,1:]\n",
    "#print(f)\n",
    "\n",
    "g = pd.read_excel(\"C://Users//82106//Downloads//ref_code//original//statistics_code.xls\",sheet_name='집계구')\n",
    "g = g.iloc[:,2:]\n",
    "g = g[g.iloc[:,1].str.contains(\"cp_bnu_\")] #원하는 사업체수 코드를 가진 row만 추출\n",
    "g = g.tail(20)\n",
    "#print(g)\n",
    "\n",
    "sucs = pd.merge(f,g,left_on=f.iloc[:,1],right_on=g.iloc[:,1],how='left')\n",
    "sucs = sucs.drop(sucs.columns[[0,2,5]],axis=1)\n",
    "sucs.columns = ['집계구번호','사업체수','산업분류']\n",
    "names = ['집계구번호','산업분류','사업체수']\n",
    "sucs = sucs[names]\n",
    "print(sucs)\n"
   ]
  },
  {
   "cell_type": "code",
   "execution_count": 5,
   "id": "9e574c28",
   "metadata": {},
   "outputs": [],
   "source": [
    "import pandas as pd\n",
    "\n",
    "f = pd.read_table(\"C://Users//82106//Downloads//_census_reqdoc_1659063002585//original//11_2019년_산업분류별(10차_대분류)_종사자수.txt\",sep='^',header=None)\n",
    "f = f.fillna(0)\n",
    "f = f.iloc[:,1:]\n",
    "f.iloc[:,0] = f.iloc[:,0].map(str)\n",
    "#print(f)\n",
    "\n",
    "g = pd.read_excel(\"C://Users//82106//Downloads//ref_code//original//statistics_code.xls\",sheet_name='집계구')\n",
    "g = g.iloc[:,2:]\n",
    "g = g[g.iloc[:,1].str.contains(\"cp_bem_\")] #원하는 사업체수 코드를 가진 row만 추출\n",
    "g = g.tail(20)\n",
    "#print(g)\n",
    "\n",
    "jsjs = pd.merge(f,g,left_on=f.iloc[:,1],right_on=g.iloc[:,1],how='left')\n",
    "jsjs = jsjs.drop(jsjs.columns[[0,2,5]],axis=1)\n",
    "jsjs.columns = ['집계구번호','종사자수','산업분류']\n",
    "names = ['집계구번호','산업분류','종사자수']\n",
    "jsjs = jsjs[names]\n",
    "#print(jsjs)\n",
    "\n",
    "jsjs.to_csv(\"C://Datacampus_project//종사자수.csv\", index = False)\n"
   ]
  },
  {
   "cell_type": "code",
   "execution_count": null,
   "id": "70172f55",
   "metadata": {},
   "outputs": [],
   "source": []
  }
 ],
 "metadata": {
  "kernelspec": {
   "display_name": "Python 3 (ipykernel)",
   "language": "python",
   "name": "python3"
  },
  "language_info": {
   "codemirror_mode": {
    "name": "ipython",
    "version": 3
   },
   "file_extension": ".py",
   "mimetype": "text/x-python",
   "name": "python",
   "nbconvert_exporter": "python",
   "pygments_lexer": "ipython3",
   "version": "3.10.5"
  }
 },
 "nbformat": 4,
 "nbformat_minor": 5
}
